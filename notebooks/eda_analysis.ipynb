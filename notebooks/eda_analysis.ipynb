{
 "cells": [
  {
   "cell_type": "code",
   "execution_count": null,
   "metadata": {
    "vscode": {
     "languageId": "plaintext"
    }
   },
   "outputs": [],
   "source": [
    "# Importing necessary libraries\n",
    "import pandas as pd\n",
    "import numpy as np\n",
    "\n",
    "# Step 1: Read the dataset (replace 'your_data.csv' with your actual dataset path)\n",
    "df = pd.read_csv('benin-malanville.csv')\n",
    "\n",
    "# Step 2: Check for missing values in the critical columns\n",
    "critical_columns = ['GHI', 'DNI', 'Tamb']  # Add any other critical columns as needed\n",
    "missing_data = df[critical_columns].isnull().sum()\n",
    "print(f\"Missing data in critical columns:\\n{missing_data}\\n\")\n",
    "\n",
    "# Step 3a: Interpolation (Fill missing values with interpolated data)\n",
    "\n",
    "# For numerical columns (GHI, DNI, temperature), use linear interpolation\n",
    "df[critical_columns] = df[critical_columns].interpolate(method='linear', axis=0)\n",
    "\n",
    "# You can also use other interpolation methods like 'polynomial' if necessary\n",
    "# df[critical_columns] = df[critical_columns].interpolate(method='polynomial', order=2, axis=0)\n",
    "\n",
    "# Step 3b: Alternatively, you can drop rows with missing values in critical columns\n",
    "# This removes any rows that have NaN values in the selected columns\n",
    "df = df.dropna(subset=critical_columns)\n",
    "\n",
    "# Step 4: Verify that missing data has been handled\n",
    "missing_data_after = df[critical_columns].isnull().sum()\n",
    "print(f\"Missing data after handling:\\n{missing_data_after}\\n\")\n",
    "\n",
    "# Step 5: Save the cleaned dataset (if necessary)\n",
    "df.to_csv('cleaned_data.csv', index=False)"
   ]
  },
  {
   "cell_type": "code",
   "execution_count": null,
   "metadata": {
    "vscode": {
     "languageId": "plaintext"
    }
   },
   "outputs": [],
   "source": [
    "import pandas as pd\n",
    "\n",
    "# Assuming your dataset is stored in a DataFrame called 'df'\n",
    "# Convert the Timestamp column to a datetime format\n",
    "df['Timestamp'] = pd.to_datetime(df['Timestamp'], format='%Y-%m-%d %H:%M')\n",
    "\n",
    "# Check the result\n",
    "print(df['Timestamp'].head())"
   ]
  },
  {
   "cell_type": "code",
   "execution_count": null,
   "metadata": {
    "vscode": {
     "languageId": "plaintext"
    }
   },
   "outputs": [],
   "source": [
    "import pandas as pd\n",
    "\n",
    "# Assuming your dataset is stored in a DataFrame called 'df'\n",
    "\n",
    "# Define a function to detect outliers using the IQR method\n",
    "def detect_outliers(df, column):\n",
    "    # Calculate Q1 (25th percentile) and Q3 (75th percentile)\n",
    "    Q1 = df[column].quantile(0.25)\n",
    "    Q3 = df[column].quantile(0.75)\n",
    "    \n",
    "    # Calculate the IQR (Interquartile Range)\n",
    "    IQR = Q3 - Q1\n",
    "    \n",
    "    # Define the outlier bounds (1.5 times the IQR from Q1 and Q3)\n",
    "    lower_bound = Q1 - 1.5 * IQR\n",
    "    upper_bound = Q3 + 1.5 * IQR\n",
    "    \n",
    "    # Identify outliers: values outside the bounds are considered outliers\n",
    "    outliers = df[(df[column] < lower_bound) | (df[column] > upper_bound)]\n",
    "    \n",
    "    return outliers\n",
    "\n",
    "# Detect outliers for wind speed, temperature, and precipitation\n",
    "wind_speed_outliers = detect_outliers(df, 'WS')\n",
    "temperature_outliers = detect_outliers(df, 'Tamb')\n",
    "precipitation_outliers = detect_outliers(df, 'Precipitation')\n",
    "\n",
    "# Display the outliers\n",
    "print(\"Outliers in Wind Speed:\")\n",
    "print(wind_speed_outliers[['Timestamp', 'WS']])\n",
    "\n",
    "print(\"\\nOutliers in Temperature:\")\n",
    "print(temperature_outliers[['Timestamp', 'Tamb']])\n",
    "\n",
    "print(\"\\nOutliers in Precipitation:\")\n",
    "print(precipitation_outliers[['Timestamp', 'Precipitation']])"
   ]
  },
  {
   "cell_type": "code",
   "execution_count": null,
   "metadata": {
    "vscode": {
     "languageId": "plaintext"
    }
   },
   "outputs": [],
   "source": [
    "import pandas as pd\n",
    "import matplotlib.pyplot as plt\n",
    "import seaborn as sns\n",
    "\n",
    "# Assuming your dataset is stored in a DataFrame called 'df'\n",
    "# Ensure that the 'Timestamp' column is already in datetime format as per previous steps\n",
    "\n",
    "# Set the 'Timestamp' as the index for time series analysis\n",
    "df.set_index('Timestamp', inplace=True)\n",
    "\n",
    "# Resample the data to daily frequency for better visualization of trends\n",
    "df_daily = df.resample('D').mean()\n",
    "\n",
    "# Plotting the time series for GHI, DNI, and DHI\n",
    "plt.figure(figsize=(14, 7))\n",
    "\n",
    "# Plot for GHI\n",
    "plt.subplot(3, 1, 1)\n",
    "plt.plot(df_daily.index, df_daily['GHI'], label='GHI (W/m²)', color='orange')\n",
    "plt.title('Global Horizontal Irradiance (GHI) Over Time')\n",
    "plt.xlabel('Date')\n",
    "plt.ylabel('GHI (W/m²)')\n",
    "plt.grid(True)\n",
    "\n",
    "# Plot for DNI\n",
    "plt.subplot(3, 1, 2)\n",
    "plt.plot(df_daily.index, df_daily['DNI'], label='DNI (W/m²)', color='blue')\n",
    "plt.title('Direct Normal Irradiance (DNI) Over Time')\n",
    "plt.xlabel('Date')\n",
    "plt.ylabel('DNI (W/m²)')\n",
    "plt.grid(True)\n",
    "\n",
    "# Plot for DHI\n",
    "plt.subplot(3, 1, 3)\n",
    "plt.plot(df_daily.index, df_daily['DHI'], label='DHI (W/m²)', color='green')\n",
    "plt.title('Diffuse Horizontal Irradiance (DHI) Over Time')\n",
    "plt.xlabel('Date')\n",
    "plt.ylabel('DHI (W/m²)')\n",
    "plt.grid(True)\n",
    "\n",
    "# Adjust layout for better spacing\n",
    "plt.tight_layout()\n",
    "\n",
    "# Display the plot\n",
    "plt.show()\n",
    "\n",
    "# Additional: Seasonal and weather-related patterns can be visualized by plotting monthly or weekly trends\n",
    "df_monthly = df.resample('M').mean()\n",
    "\n",
    "plt.figure(figsize=(14, 7))\n",
    "\n",
    "# Plot for GHI (Monthly average)\n",
    "plt.subplot(3, 1, 1)\n",
    "plt.plot(df_monthly.index, df_monthly['GHI'], label='GHI (W/m²)', color='orange')\n",
    "plt.title('Monthly Average of GHI')\n",
    "plt.xlabel('Month')\n",
    "plt.ylabel('GHI (W/m²)')\n",
    "plt.grid(True)\n",
    "\n",
    "# Plot for DNI (Monthly average)\n",
    "plt.subplot(3, 1, 2)\n",
    "plt.plot(df_monthly.index, df_monthly['DNI'], label='DNI (W/m²)', color='blue')\n",
    "plt.title('Monthly Average of DNI')\n",
    "plt.xlabel('Month')\n",
    "plt.ylabel('DNI (W/m²)')\n",
    "plt.grid(True)\n",
    "\n",
    "# Plot for DHI (Monthly average)\n",
    "plt.subplot(3, 1, 3)\n",
    "plt.plot(df_monthly.index, df_monthly['DHI'], label='DHI (W/m²)', color='green')\n",
    "plt.title('Monthly Average of DHI')\n",
    "plt.xlabel('Month')\n",
    "plt.ylabel('DHI (W/m²)')\n",
    "plt.grid(True)\n",
    "\n",
    "# Adjust layout for better spacing\n",
    "plt.tight_layout()\n",
    "\n",
    "# Display the plot\n",
    "plt.show()\n"
   ]
  },
  {
   "cell_type": "code",
   "execution_count": null,
   "metadata": {
    "vscode": {
     "languageId": "plaintext"
    }
   },
   "outputs": [],
   "source": [
    "# Scatter plot between Wind Speed (WS) and GHI\n",
    "plt.figure(figsize=(8, 6))\n",
    "sns.scatterplot(x=df['WS'], y=df['GHI'])\n",
    "plt.title('Scatter Plot: Wind Speed vs GHI')\n",
    "plt.xlabel('Wind Speed (m/s)')\n",
    "plt.ylabel('Global Horizontal Irradiance (GHI) (W/m²)')\n",
    "plt.show()"
   ]
  },
  {
   "cell_type": "code",
   "execution_count": null,
   "metadata": {
    "vscode": {
     "languageId": "plaintext"
    }
   },
   "outputs": [],
   "source": [
    "# Scatter plot between Wind Gusts (WSgust) and DNI\n",
    "plt.figure(figsize=(8, 6))\n",
    "sns.scatterplot(x=df['WSgust'], y=df['DNI'])\n",
    "plt.title('Scatter Plot: Wind Gusts vs DNI')\n",
    "plt.xlabel('Wind Gusts (m/s)')\n",
    "plt.ylabel('Direct Normal Irradiance (DNI) (W/m²)')\n",
    "plt.show()"
   ]
  },
  {
   "cell_type": "code",
   "execution_count": null,
   "metadata": {
    "vscode": {
     "languageId": "plaintext"
    }
   },
   "outputs": [],
   "source": [
    "# Time-based plot for Wind Speed (WS) and GHI\n",
    "plt.figure(figsize=(12, 6))\n",
    "plt.plot(df['Timestamp'], df['WS'], label='Wind Speed (WS)', color='blue', alpha=0.6)\n",
    "plt.plot(df['Timestamp'], df['GHI'], label='Global Horizontal Irradiance (GHI)', color='orange', alpha=0.6)\n",
    "plt.title('Wind Speed and Solar Radiation over Time')\n",
    "plt.xlabel('Timestamp')\n",
    "plt.ylabel('Value (Wind Speed in m/s, GHI in W/m²)')\n",
    "plt.legend()\n",
    "plt.xticks(rotation=45)\n",
    "plt.show()"
   ]
  }
 ],
 "metadata": {
  "language_info": {
   "name": "python"
  }
 },
 "nbformat": 4,
 "nbformat_minor": 2
}

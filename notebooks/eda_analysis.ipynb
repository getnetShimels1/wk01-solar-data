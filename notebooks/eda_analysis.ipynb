{
 "cells": [
  {
   "cell_type": "code",
   "execution_count": null,
   "metadata": {
    "vscode": {
     "languageId": "plaintext"
    }
   },
   "outputs": [],
   "source": [
    "# Importing necessary libraries\n",
    "import pandas as pd\n",
    "import numpy as np\n",
    "\n",
    "# Step 1: Read the dataset (replace 'your_data.csv' with your actual dataset path)\n",
    "df = pd.read_csv('benin-malanville.csv')\n",
    "\n",
    "# Step 2: Check for missing values in the critical columns\n",
    "critical_columns = ['GHI', 'DNI', 'Tamb']  # Add any other critical columns as needed\n",
    "missing_data = df[critical_columns].isnull().sum()\n",
    "print(f\"Missing data in critical columns:\\n{missing_data}\\n\")\n",
    "\n",
    "# Step 3a: Interpolation (Fill missing values with interpolated data)\n",
    "\n",
    "# For numerical columns (GHI, DNI, temperature), use linear interpolation\n",
    "df[critical_columns] = df[critical_columns].interpolate(method='linear', axis=0)\n",
    "\n",
    "# You can also use other interpolation methods like 'polynomial' if necessary\n",
    "# df[critical_columns] = df[critical_columns].interpolate(method='polynomial', order=2, axis=0)\n",
    "\n",
    "# Step 3b: Alternatively, you can drop rows with missing values in critical columns\n",
    "# This removes any rows that have NaN values in the selected columns\n",
    "df = df.dropna(subset=critical_columns)\n",
    "\n",
    "# Step 4: Verify that missing data has been handled\n",
    "missing_data_after = df[critical_columns].isnull().sum()\n",
    "print(f\"Missing data after handling:\\n{missing_data_after}\\n\")\n",
    "\n",
    "# Step 5: Save the cleaned dataset (if necessary)\n",
    "df.to_csv('cleaned_data.csv', index=False)"
   ]
  },
  {
   "cell_type": "code",
   "execution_count": null,
   "metadata": {
    "vscode": {
     "languageId": "plaintext"
    }
   },
   "outputs": [],
   "source": [
    "import pandas as pd\n",
    "\n",
    "# Assuming your dataset is stored in a DataFrame called 'df'\n",
    "# Convert the Timestamp column to a datetime format\n",
    "df['Timestamp'] = pd.to_datetime(df['Timestamp'], format='%Y-%m-%d %H:%M')\n",
    "\n",
    "# Check the result\n",
    "print(df['Timestamp'].head())"
   ]
  },
  {
   "cell_type": "code",
   "execution_count": null,
   "metadata": {
    "vscode": {
     "languageId": "plaintext"
    }
   },
   "outputs": [],
   "source": [
    "import pandas as pd\n",
    "\n",
    "# Assuming your dataset is stored in a DataFrame called 'df'\n",
    "\n",
    "# Define a function to detect outliers using the IQR method\n",
    "def detect_outliers(df, column):\n",
    "    # Calculate Q1 (25th percentile) and Q3 (75th percentile)\n",
    "    Q1 = df[column].quantile(0.25)\n",
    "    Q3 = df[column].quantile(0.75)\n",
    "    \n",
    "    # Calculate the IQR (Interquartile Range)\n",
    "    IQR = Q3 - Q1\n",
    "    \n",
    "    # Define the outlier bounds (1.5 times the IQR from Q1 and Q3)\n",
    "    lower_bound = Q1 - 1.5 * IQR\n",
    "    upper_bound = Q3 + 1.5 * IQR\n",
    "    \n",
    "    # Identify outliers: values outside the bounds are considered outliers\n",
    "    outliers = df[(df[column] < lower_bound) | (df[column] > upper_bound)]\n",
    "    \n",
    "    return outliers\n",
    "\n",
    "# Detect outliers for wind speed, temperature, and precipitation\n",
    "wind_speed_outliers = detect_outliers(df, 'WS')\n",
    "temperature_outliers = detect_outliers(df, 'Tamb')\n",
    "precipitation_outliers = detect_outliers(df, 'Precipitation')\n",
    "\n",
    "# Display the outliers\n",
    "print(\"Outliers in Wind Speed:\")\n",
    "print(wind_speed_outliers[['Timestamp', 'WS']])\n",
    "\n",
    "print(\"\\nOutliers in Temperature:\")\n",
    "print(temperature_outliers[['Timestamp', 'Tamb']])\n",
    "\n",
    "print(\"\\nOutliers in Precipitation:\")\n",
    "print(precipitation_outliers[['Timestamp', 'Precipitation']])"
   ]
  }
 ],
 "metadata": {
  "language_info": {
   "name": "python"
  }
 },
 "nbformat": 4,
 "nbformat_minor": 2
}
